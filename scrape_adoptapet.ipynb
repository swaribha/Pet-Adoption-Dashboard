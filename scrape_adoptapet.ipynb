{
 "cells": [
  {
   "cell_type": "code",
   "execution_count": 10,
   "metadata": {},
   "outputs": [],
   "source": [
    "from bs4 import BeautifulSoup\n",
    "from splinter import Browser\n",
    "import requests\n",
    "import time\n",
    "import pandas as pd\n",
    "import csv\n",
    "import re"
   ]
  },
  {
   "cell_type": "code",
   "execution_count": 11,
   "metadata": {},
   "outputs": [],
   "source": [
    "executable_path = {'executable_path': '/usr/local/bin/chromedriver'}\n",
    "browser = Browser('chrome', **executable_path, headless=False)"
   ]
  },
  {
   "cell_type": "code",
   "execution_count": 12,
   "metadata": {},
   "outputs": [],
   "source": [
    "url = \"https://www.adoptapet.com/cat-adoption/search/50/miles/60610\"\n",
    "#url = \"https://www.adoptapet.com/cat-adoption/search/50/miles/Chicago,%20IL\"\n",
    "browser.visit(url)"
   ]
  },
  {
   "cell_type": "code",
   "execution_count": 13,
   "metadata": {},
   "outputs": [],
   "source": [
    "html = browser.html\n",
    "soup = BeautifulSoup(html, 'html.parser')"
   ]
  },
  {
   "cell_type": "code",
   "execution_count": 14,
   "metadata": {},
   "outputs": [
    {
     "name": "stdout",
     "output_type": "stream",
     "text": [
      "There are 13 pages of search results\n"
     ]
    }
   ],
   "source": [
    "# Determine how many pages of results by reading the pagination section at the bottom of the search results\n",
    "num_pages = soup.find(attrs={\"data-pagination\": \"pagination-pager\"}).span.text\n",
    "num_pages = re.findall(r\"\\d+$\",num_pages)[0]\n",
    "print(\"There are \" + str(num_pages) + \" pages of search results\")\n",
    "next_page_url = url + \"#current_page=\"\n",
    "#print(next_page_url)"
   ]
  },
  {
   "cell_type": "code",
   "execution_count": 15,
   "metadata": {},
   "outputs": [],
   "source": [
    "# Write results to a csv file for now\n",
    "f = open('output_cats_june10.csv','w')\n",
    "fieldnames = ['pet_name', 'pet_gender', 'pet_age', 'location', 'link',\\\n",
    "            'pet_breed','pet_color','pet_id','pet_hair','pet_rescue','pet_address', \\\n",
    "             'Spayed', 'Neutered', 'Spayed / Neutered', 'Shots Up to Date', 'Has Special Needs', 'Declawed',\\\n",
    "              'Not Good with Kids', 'Good with Kids', 'House-trained', \\\n",
    "                'Good with Cats', 'Not Good with Cats', 'Good with Dogs', 'Not Good with Dogs',\\\n",
    "             'Needs Experienced Adopter']\n",
    "writer = csv.DictWriter(f, fieldnames=fieldnames)\n",
    "writer.writeheader()"
   ]
  },
  {
   "cell_type": "code",
   "execution_count": null,
   "metadata": {},
   "outputs": [],
   "source": []
  },
  {
   "cell_type": "code",
   "execution_count": null,
   "metadata": {},
   "outputs": [
    {
     "name": "stdout",
     "output_type": "stream",
     "text": [
      "https://www.adoptapet.com/cat-adoption/search/50/miles/60610#current_page=1\n",
      "There are 40 results on Page 1 of 13\n",
      "https://www.adoptapet.com/cat-adoption/search/50/miles/60610#current_page=2\n",
      "There are 40 results on Page 2 of 13\n",
      "https://www.adoptapet.com/cat-adoption/search/50/miles/60610#current_page=3\n",
      "There are 40 results on Page 3 of 13\n",
      "https://www.adoptapet.com/cat-adoption/search/50/miles/60610#current_page=4\n",
      "There are 40 results on Page 4 of 13\n",
      "https://www.adoptapet.com/cat-adoption/search/50/miles/60610#current_page=5\n",
      "There are 40 results on Page 5 of 13\n",
      "https://www.adoptapet.com/cat-adoption/search/50/miles/60610#current_page=6\n",
      "There are 40 results on Page 6 of 13\n",
      "https://www.adoptapet.com/cat-adoption/search/50/miles/60610#current_page=7\n",
      "There are 40 results on Page 7 of 13\n",
      "https://www.adoptapet.com/cat-adoption/search/50/miles/60610#current_page=8\n",
      "There are 40 results on Page 8 of 13\n",
      "https://www.adoptapet.com/cat-adoption/search/50/miles/60610#current_page=9\n",
      "There are 40 results on Page 9 of 13\n",
      "https://www.adoptapet.com/cat-adoption/search/50/miles/60610#current_page=10\n",
      "There are 40 results on Page 10 of 13\n",
      "https://www.adoptapet.com/cat-adoption/search/50/miles/60610#current_page=11\n",
      "There are 40 results on Page 11 of 13\n",
      "https://www.adoptapet.com/cat-adoption/search/50/miles/60610#current_page=12\n",
      "There are 40 results on Page 12 of 13\n"
     ]
    }
   ],
   "source": [
    "for page_num in range(1,int(num_pages)+1):\n",
    "    \n",
    "    next_page_url = url + \"#current_page=\" + str(page_num)\n",
    "    print(next_page_url)\n",
    "    \n",
    "    browser.visit(next_page_url)\n",
    "    html = browser.html\n",
    "    soup = BeautifulSoup(html, 'html.parser')\n",
    "    \n",
    "    time.sleep(30)\n",
    "    # Retrieve all the pet cards on the current page\n",
    "    results = soup.find_all('div', class_='pet-card')\n",
    "    print(\"There are \" + str(len(results)) + \" results on Page \" + str(page_num) + \" of \" + str(num_pages))\n",
    "    \n",
    "    # Loop through each page of results. There are up to 40 results per page.\n",
    "    for result in results:\n",
    "        try:        \n",
    "            # Check that pet page still exists\n",
    "            if(result.find('div', class_='pet-error')):\n",
    "                print(result.a['href'])\n",
    "                print(result.find('div', class_='pet-error').div.h3.text)\n",
    "                pass\n",
    "            else: \n",
    "                pet_name = result.find(attrs={\"data-pet-card\": \"pet-card-heading\"}).text.strip()\n",
    "                # Commented out because will read gender and age from pet page instead\n",
    "                #pet_gender = result.find(attrs={\"data-pet-card\": \"sex\"}).text.strip()\n",
    "                #pet_age = result.find(attrs={\"data-pet-card\": \"age\"}).text.strip()\n",
    "                location = result.find(attrs={\"data-pet-card\": \"city\"}).text.strip() \\\n",
    "                            + \", \" + result.find(attrs={\"data-pet-card\": \"state\"}).text.strip()\n",
    "                link = result.a['href']  \n",
    "                #print(link)\n",
    "\n",
    "                # visit the link to the pet page\n",
    "                browser.visit(link)\n",
    "                p_html = browser.html\n",
    "                p_soup = BeautifulSoup(p_html, 'html.parser')\n",
    "\n",
    "                p_facts = p_soup.find_all('div', class_='pet-facts__content')\n",
    "                # Gather info from Facts About Me section\n",
    "                pet_breed = p_facts[0].find_all('div', class_=\"h4--light\")[0].text\n",
    "                pet_color = p_facts[0].find_all('div', class_=\"h4--light\")[1].text\n",
    "                pet_age = p_facts[0].find_all('div', class_=\"h4--light\")[2].span.text\n",
    "                pet_gender = p_facts[0].find_all('div', class_=\"h4--light\")[3].text\n",
    "                pet_id = p_facts[0].find_all('div', class_=\"h4--light\")[4].text\n",
    "                pet_hair = p_facts[0].find_all('div', class_=\"h4--light\")[5].text\n",
    "\n",
    "                # Rescue or Private Owner\n",
    "                shelterinfo_label = p_soup.find('h5', class_='shelterinfo__label').text.strip()\n",
    "                if(shelterinfo_label == 'Rescue'):\n",
    "                    # If it's a rescue, get shelter name and location\n",
    "                    pet_rescue = p_soup.find('a', class_='formgroup__value').text\n",
    "                    if(p_soup.find('div', class_='gtm-plain-text-address')):\n",
    "                        pet_address = p_soup.find('div', class_='gtm-plain-text-address').text.strip()\n",
    "                    else:\n",
    "                        pet_address = p_soup.find('a', class_='gtm-shelter-map').text.strip()\n",
    "                else:\n",
    "                    # If it's a private owner, pet_rescue is none and pet_address is location\n",
    "                    pet_rescue = p_soup.find('h1', class_='shelterinfo__header').text.strip()\n",
    "                    pet_address = location\n",
    "\n",
    "                pet_card = {\n",
    "                    'pet_name': pet_name,\n",
    "                    'pet_gender': pet_gender,\n",
    "                    'pet_age': pet_age,\n",
    "                    'location': location,\n",
    "                    'link': link,\n",
    "                    'pet_breed' : pet_breed,\n",
    "                    'pet_color' : pet_color,\n",
    "                    'pet_id' : pet_id,\n",
    "                    'pet_hair' : pet_hair,\n",
    "                    'pet_rescue' : pet_rescue,\n",
    "                    'pet_address' : pet_address\n",
    "                }\n",
    "                # Gather info from My Info section, if available\n",
    "                p_info = p_soup.find(attrs={\"data-pet-detail\": \"myinfo-content\"})\n",
    "                if(p_info):\n",
    "                    p_info_list = p_info.find_all(attrs={\"data-h4\": \"heading-compact\"})\n",
    "                    for item in p_info_list:\n",
    "                        pet_card[item.text] = 'Yes'   \n",
    "                writer.writerow(pet_card)\n",
    "                \n",
    "            pet_card.clear()\n",
    "\n",
    "        except Exception as err:\n",
    "            print(result.a['href'])\n",
    "            print(err)\n",
    "            pass"
   ]
  },
  {
   "cell_type": "code",
   "execution_count": null,
   "metadata": {},
   "outputs": [],
   "source": [
    "f.close()"
   ]
  },
  {
   "cell_type": "code",
   "execution_count": 6,
   "metadata": {},
   "outputs": [],
   "source": [
    "data = pd.read_csv(\"output_cats_june10.csv\") \n",
    "data = data.fillna(\"\")"
   ]
  },
  {
   "cell_type": "code",
   "execution_count": 9,
   "metadata": {},
   "outputs": [
    {
     "data": {
      "text/plain": [
       "440"
      ]
     },
     "execution_count": 9,
     "metadata": {},
     "output_type": "execute_result"
    }
   ],
   "source": [
    "len(data)"
   ]
  },
  {
   "cell_type": "markdown",
   "metadata": {},
   "source": [
    "<b> The following was used for testing purposes.</b>"
   ]
  },
  {
   "cell_type": "code",
   "execution_count": null,
   "metadata": {},
   "outputs": [],
   "source": [
    "# Testing: Retrieving information for first one\n",
    "# pet_name = results[0].find('h4', class_=\"pet-card__heading\").text.strip()\n",
    "# gender = results[0].find_all('span', class_=\"pet-card__content--comma\")[0].text.strip()\n",
    "# age = results[0].find_all('span', class_=\"pet-card__content--comma\")[1].text.strip()\n",
    "# location = results[0].find_all('span', class_=\"pet-card__content--comma\")[2].text \\\n",
    "#             + \", \" + results[0].find_all('span', class_=\"pet-card__content--comma\")[3].text\n",
    "\n",
    "pet_name = soup.find(attrs={\"data-pet-card\": \"pet-card-heading\"}).text.strip()\n",
    "gender = soup.find(attrs={\"data-pet-card\": \"sex\"}).text.strip()\n",
    "age = soup.find(attrs={\"data-pet-card\": \"age\"}).text.strip()\n",
    "location = soup.find(attrs={\"data-pet-card\": \"city\"}).text.strip() \\\n",
    "            + \", \" + soup.find(attrs={\"data-pet-card\": \"state\"}).text.strip()\n",
    "link = results[0].a['href']    \n",
    "print(pet_name)\n",
    "print(gender)\n",
    "print(age)\n",
    "print(location)\n",
    "print(link)"
   ]
  },
  {
   "cell_type": "code",
   "execution_count": null,
   "metadata": {},
   "outputs": [],
   "source": [
    "# Testing: Visit the link to the pet page and retrieve information\n",
    "#link = \"https://www.adoptapet.com/pet/24939053-chicago-illinois-cat\"\n",
    "link = \"https://www.adoptapet.com/pet/25520742-tinley-park-illinois-kitten\"\n",
    "browser.visit(link)\n",
    "p_html = browser.html\n",
    "p_soup = BeautifulSoup(p_html, 'html.parser')\n",
    "\n",
    "if(p_soup.find('div', class_='pet-error')):\n",
    "    print(p_soup.find('div', class_='pet-error').div.h3.text)\n",
    "else :    \n",
    "    pet_name = p_soup.find(attrs={\"data-pet-detail\": \"pet-header-pet-heading\"}).span.text\n",
    "\n",
    "    p_facts = p_soup.find_all('div', class_='pet-facts__content')\n",
    "    #print(p_facts)\n",
    "    pet_breed = p_facts[0].find_all('div', class_=\"h4--light\")[0].text\n",
    "    pet_color = p_facts[0].find_all('div', class_=\"h4--light\")[1].text\n",
    "    pet_age = p_facts[0].find_all('div', class_=\"h4--light\")[2].span.text\n",
    "    pet_gender = p_facts[0].find_all('div', class_=\"h4--light\")[3].text\n",
    "    pet_id = p_facts[0].find_all('div', class_=\"h4--light\")[4].text\n",
    "    pet_hair = p_facts[0].find_all('div', class_=\"h4--light\")[5].text\n",
    "\n",
    "    # Rescue or Private Owner\n",
    "    shelterinfo_label = p_soup.find('h5', class_='shelterinfo__label').text.strip()\n",
    "    if(shelterinfo_label == 'Rescue'):\n",
    "        # If it's a rescue, get shelter name and location\n",
    "        pet_rescue = p_soup.find('h1', class_='shelterinfo__header').text.strip()\n",
    "\n",
    "        if(p_soup.find('div', class_='gtm-plain-text-address')):\n",
    "            pet_address = p_soup.find('div', class_='gtm-plain-text-address').text.strip()\n",
    "        else:\n",
    "            pet_address = p_soup.find('a', class_='gtm-shelter-map').text.strip()\n",
    "    else:\n",
    "        # If it's a private owner, pet_rescue is \"Private Owner\" and pet_address is location\n",
    "        pet_rescue = p_soup.find('h1', class_='shelterinfo__header').text.strip()\n",
    "        pet_address = location\n",
    "\n",
    "    # Store information into a dictionary\n",
    "    pet_card = {\n",
    "        'pet_name': pet_name,\n",
    "        'pet_gender': pet_gender,\n",
    "        'pet_age': pet_age,\n",
    "        'location': location,\n",
    "        'link': link,\n",
    "        'pet_breed' : pet_breed,\n",
    "        'pet_color' : pet_color,\n",
    "        'pet_id' : pet_id,\n",
    "        'pet_hair' : pet_hair,\n",
    "        'pet_rescue' : pet_rescue,\n",
    "        'pet_address' : pet_address\n",
    "    }\n",
    "    #print(pet_card)\n",
    "    p_info = p_soup.find(attrs={\"data-pet-detail\": \"myinfo-content\"})\n",
    "    #print(p_info)\n",
    "    if(p_info):\n",
    "        p_info_list = p_info.find_all(attrs={\"data-h4\": \"heading-compact\"})\n",
    "        for item in p_info_list:\n",
    "            pet_card[item.text] = 'Yes'\n",
    "            #print(item.text)\n",
    "\n",
    "    # Print pet dictionary\n",
    "    print(pet_card)"
   ]
  },
  {
   "cell_type": "code",
   "execution_count": null,
   "metadata": {},
   "outputs": [],
   "source": []
  },
  {
   "cell_type": "code",
   "execution_count": null,
   "metadata": {},
   "outputs": [],
   "source": []
  }
 ],
 "metadata": {
  "kernelspec": {
   "display_name": "Python 3",
   "language": "python",
   "name": "python3"
  },
  "language_info": {
   "codemirror_mode": {
    "name": "ipython",
    "version": 3
   },
   "file_extension": ".py",
   "mimetype": "text/x-python",
   "name": "python",
   "nbconvert_exporter": "python",
   "pygments_lexer": "ipython3",
   "version": "3.7.1"
  }
 },
 "nbformat": 4,
 "nbformat_minor": 2
}
