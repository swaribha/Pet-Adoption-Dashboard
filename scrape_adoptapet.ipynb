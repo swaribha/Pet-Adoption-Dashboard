{
 "cells": [
  {
   "cell_type": "code",
   "execution_count": 9,
   "metadata": {},
   "outputs": [],
   "source": [
    "from bs4 import BeautifulSoup\n",
    "from splinter import Browser\n",
    "import requests\n",
    "import time\n",
    "import pandas as pd\n",
    "import csv\n",
    "import re"
   ]
  },
  {
   "cell_type": "code",
   "execution_count": 10,
   "metadata": {},
   "outputs": [],
   "source": [
    "executable_path = {'executable_path': '/usr/local/bin/chromedriver'}\n",
    "browser = Browser('chrome', **executable_path, headless=False)"
   ]
  },
  {
   "cell_type": "code",
   "execution_count": 26,
   "metadata": {},
   "outputs": [],
   "source": [
    "url = \"https://www.adoptapet.com/cat-adoption/search/50/miles/60610\"\n",
    "#url = \"https://www.adoptapet.com/cat-adoption/search/50/miles/Chicago,%20IL\"\n",
    "browser.visit(url)"
   ]
  },
  {
   "cell_type": "code",
   "execution_count": 18,
   "metadata": {},
   "outputs": [],
   "source": [
    "html = browser.html\n",
    "soup = BeautifulSoup(html, 'html.parser')"
   ]
  },
  {
   "cell_type": "code",
   "execution_count": 27,
   "metadata": {},
   "outputs": [
    {
     "name": "stdout",
     "output_type": "stream",
     "text": [
      "There are 13 pages of search results\n"
     ]
    }
   ],
   "source": [
    "# Determine how many pages of results by reading the pagination section at the bottom of the search results\n",
    "num_pages = soup.find(attrs={\"data-pagination\": \"pagination-pager\"}).span.text\n",
    "num_pages = re.findall(r\"\\d+$\",num_pages)[0]\n",
    "print(\"There are \" + str(num_pages) + \" pages of search results\")\n",
    "next_page_url = url + \"#current_page=\"\n",
    "#print(next_page_url)"
   ]
  },
  {
   "cell_type": "code",
   "execution_count": 28,
   "metadata": {},
   "outputs": [],
   "source": [
    "# Write results to a csv file for now\n",
    "f = open('output_cats_june10.csv','w')\n",
    "fieldnames = ['pet_name', 'pet_gender', 'pet_age', 'location', 'link',\\\n",
    "            'pet_breed','pet_color','pet_id','pet_hair','pet_rescue','pet_address', \\\n",
    "             'Spayed', 'Neutered', 'Shots Up to Date', 'Has Special Needs', 'Declawed',\\\n",
    "              'Not Good with Kids', 'Good with Kids', 'House-trained', \\\n",
    "                'Good with Cats', 'Not Good with Cats', 'Good with Dogs', 'Not Good with Dogs',\\\n",
    "             'Needs Experienced Adopter']\n",
    "writer = csv.DictWriter(f, fieldnames=fieldnames)\n",
    "writer.writeheader()"
   ]
  },
  {
   "cell_type": "code",
   "execution_count": null,
   "metadata": {},
   "outputs": [],
   "source": []
  },
  {
   "cell_type": "code",
   "execution_count": 29,
   "metadata": {},
   "outputs": [
    {
     "name": "stdout",
     "output_type": "stream",
     "text": [
      "https://www.adoptapet.com/cat-adoption/search/50/miles/60610#current_page=1\n",
      "There are 40 results on Page 1 of 13\n",
      "https://www.adoptapet.com/cat-adoption/search/50/miles/60610#current_page=2\n",
      "There are 40 results on Page 2 of 13\n",
      "https://www.adoptapet.com/cat-adoption/search/50/miles/60610#current_page=3\n",
      "There are 40 results on Page 3 of 13\n",
      "https://www.adoptapet.com/cat-adoption/search/50/miles/60610#current_page=4\n",
      "There are 40 results on Page 4 of 13\n",
      "https://www.adoptapet.com/cat-adoption/search/50/miles/60610#current_page=5\n",
      "There are 40 results on Page 5 of 13\n",
      "https://www.adoptapet.com/cat-adoption/search/50/miles/60610#current_page=6\n",
      "There are 40 results on Page 6 of 13\n",
      "https://www.adoptapet.com/cat-adoption/search/50/miles/60610#current_page=7\n",
      "There are 40 results on Page 7 of 13\n",
      "https://www.adoptapet.com/cat-adoption/search/50/miles/60610#current_page=8\n"
     ]
    },
    {
     "ename": "TimeoutException",
     "evalue": "Message: timeout\n  (Session info: chrome=74.0.3729.169)\n  (Driver info: chromedriver=74.0.3729.6 (255758eccf3d244491b8a1317aa76e1ce10d57e9-refs/branch-heads/3729@{#29}),platform=Mac OS X 10.14.5 x86_64)\n",
     "output_type": "error",
     "traceback": [
      "\u001b[0;31m---------------------------------------------------------------------------\u001b[0m",
      "\u001b[0;31mTimeoutException\u001b[0m                          Traceback (most recent call last)",
      "\u001b[0;32m<ipython-input-29-614f71911c05>\u001b[0m in \u001b[0;36m<module>\u001b[0;34m\u001b[0m\n\u001b[1;32m      4\u001b[0m     \u001b[0mprint\u001b[0m\u001b[0;34m(\u001b[0m\u001b[0mnext_page_url\u001b[0m\u001b[0;34m)\u001b[0m\u001b[0;34m\u001b[0m\u001b[0;34m\u001b[0m\u001b[0m\n\u001b[1;32m      5\u001b[0m \u001b[0;34m\u001b[0m\u001b[0m\n\u001b[0;32m----> 6\u001b[0;31m     \u001b[0mbrowser\u001b[0m\u001b[0;34m.\u001b[0m\u001b[0mvisit\u001b[0m\u001b[0;34m(\u001b[0m\u001b[0mnext_page_url\u001b[0m\u001b[0;34m)\u001b[0m\u001b[0;34m\u001b[0m\u001b[0;34m\u001b[0m\u001b[0m\n\u001b[0m\u001b[1;32m      7\u001b[0m     \u001b[0mhtml\u001b[0m \u001b[0;34m=\u001b[0m \u001b[0mbrowser\u001b[0m\u001b[0;34m.\u001b[0m\u001b[0mhtml\u001b[0m\u001b[0;34m\u001b[0m\u001b[0;34m\u001b[0m\u001b[0m\n\u001b[1;32m      8\u001b[0m     \u001b[0msoup\u001b[0m \u001b[0;34m=\u001b[0m \u001b[0mBeautifulSoup\u001b[0m\u001b[0;34m(\u001b[0m\u001b[0mhtml\u001b[0m\u001b[0;34m,\u001b[0m \u001b[0;34m'html.parser'\u001b[0m\u001b[0;34m)\u001b[0m\u001b[0;34m\u001b[0m\u001b[0;34m\u001b[0m\u001b[0m\n",
      "\u001b[0;32m/anaconda3/lib/python3.7/site-packages/splinter/driver/webdriver/__init__.py\u001b[0m in \u001b[0;36mvisit\u001b[0;34m(self, url)\u001b[0m\n\u001b[1;32m    194\u001b[0m \u001b[0;34m\u001b[0m\u001b[0m\n\u001b[1;32m    195\u001b[0m     \u001b[0;32mdef\u001b[0m \u001b[0mvisit\u001b[0m\u001b[0;34m(\u001b[0m\u001b[0mself\u001b[0m\u001b[0;34m,\u001b[0m \u001b[0murl\u001b[0m\u001b[0;34m)\u001b[0m\u001b[0;34m:\u001b[0m\u001b[0;34m\u001b[0m\u001b[0;34m\u001b[0m\u001b[0m\n\u001b[0;32m--> 196\u001b[0;31m         \u001b[0mself\u001b[0m\u001b[0;34m.\u001b[0m\u001b[0mdriver\u001b[0m\u001b[0;34m.\u001b[0m\u001b[0mget\u001b[0m\u001b[0;34m(\u001b[0m\u001b[0murl\u001b[0m\u001b[0;34m)\u001b[0m\u001b[0;34m\u001b[0m\u001b[0;34m\u001b[0m\u001b[0m\n\u001b[0m\u001b[1;32m    197\u001b[0m \u001b[0;34m\u001b[0m\u001b[0m\n\u001b[1;32m    198\u001b[0m     \u001b[0;32mdef\u001b[0m \u001b[0mback\u001b[0m\u001b[0;34m(\u001b[0m\u001b[0mself\u001b[0m\u001b[0;34m)\u001b[0m\u001b[0;34m:\u001b[0m\u001b[0;34m\u001b[0m\u001b[0;34m\u001b[0m\u001b[0m\n",
      "\u001b[0;32m/anaconda3/lib/python3.7/site-packages/selenium/webdriver/remote/webdriver.py\u001b[0m in \u001b[0;36mget\u001b[0;34m(self, url)\u001b[0m\n\u001b[1;32m    331\u001b[0m         \u001b[0mLoads\u001b[0m \u001b[0ma\u001b[0m \u001b[0mweb\u001b[0m \u001b[0mpage\u001b[0m \u001b[0;32min\u001b[0m \u001b[0mthe\u001b[0m \u001b[0mcurrent\u001b[0m \u001b[0mbrowser\u001b[0m \u001b[0msession\u001b[0m\u001b[0;34m.\u001b[0m\u001b[0;34m\u001b[0m\u001b[0;34m\u001b[0m\u001b[0m\n\u001b[1;32m    332\u001b[0m         \"\"\"\n\u001b[0;32m--> 333\u001b[0;31m         \u001b[0mself\u001b[0m\u001b[0;34m.\u001b[0m\u001b[0mexecute\u001b[0m\u001b[0;34m(\u001b[0m\u001b[0mCommand\u001b[0m\u001b[0;34m.\u001b[0m\u001b[0mGET\u001b[0m\u001b[0;34m,\u001b[0m \u001b[0;34m{\u001b[0m\u001b[0;34m'url'\u001b[0m\u001b[0;34m:\u001b[0m \u001b[0murl\u001b[0m\u001b[0;34m}\u001b[0m\u001b[0;34m)\u001b[0m\u001b[0;34m\u001b[0m\u001b[0;34m\u001b[0m\u001b[0m\n\u001b[0m\u001b[1;32m    334\u001b[0m \u001b[0;34m\u001b[0m\u001b[0m\n\u001b[1;32m    335\u001b[0m     \u001b[0;34m@\u001b[0m\u001b[0mproperty\u001b[0m\u001b[0;34m\u001b[0m\u001b[0;34m\u001b[0m\u001b[0m\n",
      "\u001b[0;32m/anaconda3/lib/python3.7/site-packages/selenium/webdriver/remote/webdriver.py\u001b[0m in \u001b[0;36mexecute\u001b[0;34m(self, driver_command, params)\u001b[0m\n\u001b[1;32m    319\u001b[0m         \u001b[0mresponse\u001b[0m \u001b[0;34m=\u001b[0m \u001b[0mself\u001b[0m\u001b[0;34m.\u001b[0m\u001b[0mcommand_executor\u001b[0m\u001b[0;34m.\u001b[0m\u001b[0mexecute\u001b[0m\u001b[0;34m(\u001b[0m\u001b[0mdriver_command\u001b[0m\u001b[0;34m,\u001b[0m \u001b[0mparams\u001b[0m\u001b[0;34m)\u001b[0m\u001b[0;34m\u001b[0m\u001b[0;34m\u001b[0m\u001b[0m\n\u001b[1;32m    320\u001b[0m         \u001b[0;32mif\u001b[0m \u001b[0mresponse\u001b[0m\u001b[0;34m:\u001b[0m\u001b[0;34m\u001b[0m\u001b[0;34m\u001b[0m\u001b[0m\n\u001b[0;32m--> 321\u001b[0;31m             \u001b[0mself\u001b[0m\u001b[0;34m.\u001b[0m\u001b[0merror_handler\u001b[0m\u001b[0;34m.\u001b[0m\u001b[0mcheck_response\u001b[0m\u001b[0;34m(\u001b[0m\u001b[0mresponse\u001b[0m\u001b[0;34m)\u001b[0m\u001b[0;34m\u001b[0m\u001b[0;34m\u001b[0m\u001b[0m\n\u001b[0m\u001b[1;32m    322\u001b[0m             response['value'] = self._unwrap_value(\n\u001b[1;32m    323\u001b[0m                 response.get('value', None))\n",
      "\u001b[0;32m/anaconda3/lib/python3.7/site-packages/selenium/webdriver/remote/errorhandler.py\u001b[0m in \u001b[0;36mcheck_response\u001b[0;34m(self, response)\u001b[0m\n\u001b[1;32m    240\u001b[0m                 \u001b[0malert_text\u001b[0m \u001b[0;34m=\u001b[0m \u001b[0mvalue\u001b[0m\u001b[0;34m[\u001b[0m\u001b[0;34m'alert'\u001b[0m\u001b[0;34m]\u001b[0m\u001b[0;34m.\u001b[0m\u001b[0mget\u001b[0m\u001b[0;34m(\u001b[0m\u001b[0;34m'text'\u001b[0m\u001b[0;34m)\u001b[0m\u001b[0;34m\u001b[0m\u001b[0;34m\u001b[0m\u001b[0m\n\u001b[1;32m    241\u001b[0m             \u001b[0;32mraise\u001b[0m \u001b[0mexception_class\u001b[0m\u001b[0;34m(\u001b[0m\u001b[0mmessage\u001b[0m\u001b[0;34m,\u001b[0m \u001b[0mscreen\u001b[0m\u001b[0;34m,\u001b[0m \u001b[0mstacktrace\u001b[0m\u001b[0;34m,\u001b[0m \u001b[0malert_text\u001b[0m\u001b[0;34m)\u001b[0m\u001b[0;34m\u001b[0m\u001b[0;34m\u001b[0m\u001b[0m\n\u001b[0;32m--> 242\u001b[0;31m         \u001b[0;32mraise\u001b[0m \u001b[0mexception_class\u001b[0m\u001b[0;34m(\u001b[0m\u001b[0mmessage\u001b[0m\u001b[0;34m,\u001b[0m \u001b[0mscreen\u001b[0m\u001b[0;34m,\u001b[0m \u001b[0mstacktrace\u001b[0m\u001b[0;34m)\u001b[0m\u001b[0;34m\u001b[0m\u001b[0;34m\u001b[0m\u001b[0m\n\u001b[0m\u001b[1;32m    243\u001b[0m \u001b[0;34m\u001b[0m\u001b[0m\n\u001b[1;32m    244\u001b[0m     \u001b[0;32mdef\u001b[0m \u001b[0m_value_or_default\u001b[0m\u001b[0;34m(\u001b[0m\u001b[0mself\u001b[0m\u001b[0;34m,\u001b[0m \u001b[0mobj\u001b[0m\u001b[0;34m,\u001b[0m \u001b[0mkey\u001b[0m\u001b[0;34m,\u001b[0m \u001b[0mdefault\u001b[0m\u001b[0;34m)\u001b[0m\u001b[0;34m:\u001b[0m\u001b[0;34m\u001b[0m\u001b[0;34m\u001b[0m\u001b[0m\n",
      "\u001b[0;31mTimeoutException\u001b[0m: Message: timeout\n  (Session info: chrome=74.0.3729.169)\n  (Driver info: chromedriver=74.0.3729.6 (255758eccf3d244491b8a1317aa76e1ce10d57e9-refs/branch-heads/3729@{#29}),platform=Mac OS X 10.14.5 x86_64)\n"
     ]
    }
   ],
   "source": [
    "for page_num in range(1,int(num_pages)+1):\n",
    "\n",
    "    next_page_url = url + \"#current_page=\" + str(page_num)\n",
    "    print(next_page_url)\n",
    "    \n",
    "    browser.visit(next_page_url)\n",
    "    html = browser.html\n",
    "    soup = BeautifulSoup(html, 'html.parser')\n",
    "    \n",
    "    # Retrieve all the pet cards on the current page\n",
    "    results = soup.find_all('div', class_='pet-card')\n",
    "    print(\"There are \" + str(len(results)) + \" results on Page \" + str(page_num) + \" of \" + str(num_pages))\n",
    "\n",
    "    # Loop through each page of results. There are up to 40 results per page.\n",
    "    for result in results:\n",
    "        try:        \n",
    "            # Check that pet page still exists\n",
    "            if(result.find('div', class_='pet-error')):\n",
    "                print(result.a['href'])\n",
    "                print(result.find('div', class_='pet-error').div.h3.text)\n",
    "                pass\n",
    "            else: \n",
    "                pet_name = result.find(attrs={\"data-pet-card\": \"pet-card-heading\"}).text.strip()\n",
    "                # Commented out because will read gender and age from pet page instead\n",
    "                #pet_gender = result.find(attrs={\"data-pet-card\": \"sex\"}).text.strip()\n",
    "                #pet_age = result.find(attrs={\"data-pet-card\": \"age\"}).text.strip()\n",
    "                location = result.find(attrs={\"data-pet-card\": \"city\"}).text.strip() \\\n",
    "                            + \", \" + result.find(attrs={\"data-pet-card\": \"state\"}).text.strip()\n",
    "                link = result.a['href']  \n",
    "                #print(link)\n",
    "\n",
    "                # visit the link to the pet page\n",
    "                browser.visit(link)\n",
    "                p_html = browser.html\n",
    "                p_soup = BeautifulSoup(p_html, 'html.parser')\n",
    "\n",
    "                p_facts = p_soup.find_all('div', class_='pet-facts__content')\n",
    "                # Gather info from Facts About Me section\n",
    "                pet_breed = p_facts[0].find_all('div', class_=\"h4--light\")[0].text\n",
    "                pet_color = p_facts[0].find_all('div', class_=\"h4--light\")[1].text\n",
    "                pet_age = p_facts[0].find_all('div', class_=\"h4--light\")[2].span.text\n",
    "                pet_gender = p_facts[0].find_all('div', class_=\"h4--light\")[3].text\n",
    "                pet_id = p_facts[0].find_all('div', class_=\"h4--light\")[4].text\n",
    "                pet_hair = p_facts[0].find_all('div', class_=\"h4--light\")[5].text\n",
    "\n",
    "                # Rescue or Private Owner\n",
    "                shelterinfo_label = p_soup.find('h5', class_='shelterinfo__label').text.strip()\n",
    "                if(shelterinfo_label == 'Rescue'):\n",
    "                    # If it's a rescue, get shelter name and location\n",
    "                    pet_rescue = p_soup.find('a', class_='formgroup__value').text\n",
    "                    if(p_soup.find('div', class_='gtm-plain-text-address')):\n",
    "                        pet_address = p_soup.find('div', class_='gtm-plain-text-address').text.strip()\n",
    "                    else:\n",
    "                        pet_address = p_soup.find('a', class_='gtm-shelter-map').text.strip()\n",
    "                else:\n",
    "                    # If it's a private owner, pet_rescue is none and pet_address is location\n",
    "                    pet_rescue = p_soup.find('h1', class_='shelterinfo__header').text.strip()\n",
    "                    pet_address = location\n",
    "\n",
    "                pet_card = {\n",
    "                    'pet_name': pet_name,\n",
    "                    'pet_gender': pet_gender,\n",
    "                    'pet_age': pet_age,\n",
    "                    'location': location,\n",
    "                    'link': link,\n",
    "                    'pet_breed' : pet_breed,\n",
    "                    'pet_color' : pet_color,\n",
    "                    'pet_id' : pet_id,\n",
    "                    'pet_hair' : pet_hair,\n",
    "                    'pet_rescue' : pet_rescue,\n",
    "                    'pet_address' : pet_address\n",
    "                }\n",
    "                # Gather info from My Info section, if available\n",
    "                p_info = p_soup.find(attrs={\"data-pet-detail\": \"myinfo-content\"})\n",
    "                if(p_info):\n",
    "                    p_info_list = p_info.find_all(attrs={\"data-h4\": \"heading-compact\"})\n",
    "                    for item in p_info_list:\n",
    "                        pet_card[item.text] = 'Yes'   \n",
    "                writer.writerow(pet_card)\n",
    "                \n",
    "            pet_card.clear()\n",
    "\n",
    "        except Exception as err:\n",
    "            print(result.a['href'])\n",
    "            print(err)\n",
    "            pass"
   ]
  },
  {
   "cell_type": "code",
   "execution_count": 23,
   "metadata": {},
   "outputs": [],
   "source": [
    "f.close()"
   ]
  },
  {
   "cell_type": "code",
   "execution_count": null,
   "metadata": {},
   "outputs": [],
   "source": []
  },
  {
   "cell_type": "code",
   "execution_count": null,
   "metadata": {},
   "outputs": [],
   "source": []
  },
  {
   "cell_type": "markdown",
   "metadata": {},
   "source": [
    "<b> The following was used for testing purposes.</b>"
   ]
  },
  {
   "cell_type": "code",
   "execution_count": null,
   "metadata": {},
   "outputs": [],
   "source": [
    "# Testing: Retrieving information for first one\n",
    "# pet_name = results[0].find('h4', class_=\"pet-card__heading\").text.strip()\n",
    "# gender = results[0].find_all('span', class_=\"pet-card__content--comma\")[0].text.strip()\n",
    "# age = results[0].find_all('span', class_=\"pet-card__content--comma\")[1].text.strip()\n",
    "# location = results[0].find_all('span', class_=\"pet-card__content--comma\")[2].text \\\n",
    "#             + \", \" + results[0].find_all('span', class_=\"pet-card__content--comma\")[3].text\n",
    "\n",
    "pet_name = soup.find(attrs={\"data-pet-card\": \"pet-card-heading\"}).text.strip()\n",
    "gender = soup.find(attrs={\"data-pet-card\": \"sex\"}).text.strip()\n",
    "age = soup.find(attrs={\"data-pet-card\": \"age\"}).text.strip()\n",
    "location = soup.find(attrs={\"data-pet-card\": \"city\"}).text.strip() \\\n",
    "            + \", \" + soup.find(attrs={\"data-pet-card\": \"state\"}).text.strip()\n",
    "link = results[0].a['href']    \n",
    "print(pet_name)\n",
    "print(gender)\n",
    "print(age)\n",
    "print(location)\n",
    "print(link)"
   ]
  },
  {
   "cell_type": "code",
   "execution_count": 16,
   "metadata": {},
   "outputs": [
    {
     "name": "stdout",
     "output_type": "stream",
     "text": [
      "Pet Not Found\n"
     ]
    },
    {
     "ename": "AttributeError",
     "evalue": "'NoneType' object has no attribute 'span'",
     "output_type": "error",
     "traceback": [
      "\u001b[0;31m---------------------------------------------------------------------------\u001b[0m",
      "\u001b[0;31mAttributeError\u001b[0m                            Traceback (most recent call last)",
      "\u001b[0;32m<ipython-input-16-a54e137a79fe>\u001b[0m in \u001b[0;36m<module>\u001b[0;34m\u001b[0m\n\u001b[1;32m      9\u001b[0m     \u001b[0mprint\u001b[0m\u001b[0;34m(\u001b[0m\u001b[0mp_soup\u001b[0m\u001b[0;34m.\u001b[0m\u001b[0mfind\u001b[0m\u001b[0;34m(\u001b[0m\u001b[0;34m'div'\u001b[0m\u001b[0;34m,\u001b[0m \u001b[0mclass_\u001b[0m\u001b[0;34m=\u001b[0m\u001b[0;34m'pet-error'\u001b[0m\u001b[0;34m)\u001b[0m\u001b[0;34m.\u001b[0m\u001b[0mdiv\u001b[0m\u001b[0;34m.\u001b[0m\u001b[0mh3\u001b[0m\u001b[0;34m.\u001b[0m\u001b[0mtext\u001b[0m\u001b[0;34m)\u001b[0m\u001b[0;34m\u001b[0m\u001b[0;34m\u001b[0m\u001b[0m\n\u001b[1;32m     10\u001b[0m \u001b[0;34m\u001b[0m\u001b[0m\n\u001b[0;32m---> 11\u001b[0;31m \u001b[0mpet_name\u001b[0m \u001b[0;34m=\u001b[0m \u001b[0mp_soup\u001b[0m\u001b[0;34m.\u001b[0m\u001b[0mfind\u001b[0m\u001b[0;34m(\u001b[0m\u001b[0mattrs\u001b[0m\u001b[0;34m=\u001b[0m\u001b[0;34m{\u001b[0m\u001b[0;34m\"data-pet-detail\"\u001b[0m\u001b[0;34m:\u001b[0m \u001b[0;34m\"pet-header-pet-heading\"\u001b[0m\u001b[0;34m}\u001b[0m\u001b[0;34m)\u001b[0m\u001b[0;34m.\u001b[0m\u001b[0mspan\u001b[0m\u001b[0;34m.\u001b[0m\u001b[0mtext\u001b[0m\u001b[0;34m\u001b[0m\u001b[0;34m\u001b[0m\u001b[0m\n\u001b[0m\u001b[1;32m     12\u001b[0m \u001b[0;34m\u001b[0m\u001b[0m\n\u001b[1;32m     13\u001b[0m \u001b[0mp_facts\u001b[0m \u001b[0;34m=\u001b[0m \u001b[0mp_soup\u001b[0m\u001b[0;34m.\u001b[0m\u001b[0mfind_all\u001b[0m\u001b[0;34m(\u001b[0m\u001b[0;34m'div'\u001b[0m\u001b[0;34m,\u001b[0m \u001b[0mclass_\u001b[0m\u001b[0;34m=\u001b[0m\u001b[0;34m'pet-facts__content'\u001b[0m\u001b[0;34m)\u001b[0m\u001b[0;34m\u001b[0m\u001b[0;34m\u001b[0m\u001b[0m\n",
      "\u001b[0;31mAttributeError\u001b[0m: 'NoneType' object has no attribute 'span'"
     ]
    }
   ],
   "source": [
    "# Testing: Visit the link to the pet page and retrieve information\n",
    "#link = \"https://www.adoptapet.com/pet/24939053-chicago-illinois-cat\"\n",
    "link = \"https://www.adoptapet.com/pet/25520742-tinley-park-illinois-kitten\"\n",
    "browser.visit(link)\n",
    "p_html = browser.html\n",
    "p_soup = BeautifulSoup(p_html, 'html.parser')\n",
    "\n",
    "if(p_soup.find('div', class_='pet-error')):\n",
    "    print(p_soup.find('div', class_='pet-error').div.h3.text)\n",
    "else :    \n",
    "    pet_name = p_soup.find(attrs={\"data-pet-detail\": \"pet-header-pet-heading\"}).span.text\n",
    "\n",
    "    p_facts = p_soup.find_all('div', class_='pet-facts__content')\n",
    "    #print(p_facts)\n",
    "    pet_breed = p_facts[0].find_all('div', class_=\"h4--light\")[0].text\n",
    "    pet_color = p_facts[0].find_all('div', class_=\"h4--light\")[1].text\n",
    "    pet_age = p_facts[0].find_all('div', class_=\"h4--light\")[2].span.text\n",
    "    pet_gender = p_facts[0].find_all('div', class_=\"h4--light\")[3].text\n",
    "    pet_id = p_facts[0].find_all('div', class_=\"h4--light\")[4].text\n",
    "    pet_hair = p_facts[0].find_all('div', class_=\"h4--light\")[5].text\n",
    "\n",
    "    # Rescue or Private Owner\n",
    "    shelterinfo_label = p_soup.find('h5', class_='shelterinfo__label').text.strip()\n",
    "    if(shelterinfo_label == 'Rescue'):\n",
    "        # If it's a rescue, get shelter name and location\n",
    "        pet_rescue = p_soup.find('h1', class_='shelterinfo__header').text.strip()\n",
    "\n",
    "        if(p_soup.find('div', class_='gtm-plain-text-address')):\n",
    "            pet_address = p_soup.find('div', class_='gtm-plain-text-address').text.strip()\n",
    "        else:\n",
    "            pet_address = p_soup.find('a', class_='gtm-shelter-map').text.strip()\n",
    "    else:\n",
    "        # If it's a private owner, pet_rescue is \"Private Owner\" and pet_address is location\n",
    "        pet_rescue = p_soup.find('h1', class_='shelterinfo__header').text.strip()\n",
    "        pet_address = location\n",
    "\n",
    "    # Store information into a dictionary\n",
    "    pet_card = {\n",
    "        'pet_name': pet_name,\n",
    "        'pet_gender': pet_gender,\n",
    "        'pet_age': pet_age,\n",
    "        'location': location,\n",
    "        'link': link,\n",
    "        'pet_breed' : pet_breed,\n",
    "        'pet_color' : pet_color,\n",
    "        'pet_id' : pet_id,\n",
    "        'pet_hair' : pet_hair,\n",
    "        'pet_rescue' : pet_rescue,\n",
    "        'pet_address' : pet_address\n",
    "    }\n",
    "    #print(pet_card)\n",
    "    p_info = p_soup.find(attrs={\"data-pet-detail\": \"myinfo-content\"})\n",
    "    #print(p_info)\n",
    "    if(p_info):\n",
    "        p_info_list = p_info.find_all(attrs={\"data-h4\": \"heading-compact\"})\n",
    "        for item in p_info_list:\n",
    "            pet_card[item.text] = 'Yes'\n",
    "            #print(item.text)\n",
    "\n",
    "    # Print pet dictionary\n",
    "    print(pet_card)"
   ]
  },
  {
   "cell_type": "code",
   "execution_count": null,
   "metadata": {},
   "outputs": [],
   "source": []
  },
  {
   "cell_type": "code",
   "execution_count": null,
   "metadata": {},
   "outputs": [],
   "source": []
  }
 ],
 "metadata": {
  "kernelspec": {
   "display_name": "Python 3",
   "language": "python",
   "name": "python3"
  },
  "language_info": {
   "codemirror_mode": {
    "name": "ipython",
    "version": 3
   },
   "file_extension": ".py",
   "mimetype": "text/x-python",
   "name": "python",
   "nbconvert_exporter": "python",
   "pygments_lexer": "ipython3",
   "version": "3.7.1"
  }
 },
 "nbformat": 4,
 "nbformat_minor": 2
}
