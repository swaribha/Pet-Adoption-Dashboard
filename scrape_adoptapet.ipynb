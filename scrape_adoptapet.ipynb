{
 "cells": [
  {
   "cell_type": "code",
   "execution_count": 1,
   "metadata": {},
   "outputs": [],
   "source": [
    "from bs4 import BeautifulSoup\n",
    "from splinter import Browser\n",
    "import requests\n",
    "import time\n",
    "import pandas as pd"
   ]
  },
  {
   "cell_type": "code",
   "execution_count": 2,
   "metadata": {},
   "outputs": [],
   "source": [
    "executable_path = {'executable_path': '/usr/local/bin/chromedriver'}\n",
    "browser = Browser('chrome', **executable_path, headless=False)"
   ]
  },
  {
   "cell_type": "code",
   "execution_count": 3,
   "metadata": {},
   "outputs": [],
   "source": [
    "url = \"https://www.adoptapet.com/cat-adoption/search/50/miles/60622\"\n",
    "browser.visit(url)"
   ]
  },
  {
   "cell_type": "code",
   "execution_count": 4,
   "metadata": {},
   "outputs": [],
   "source": [
    "html = browser.html\n",
    "soup = BeautifulSoup(html, 'html.parser')"
   ]
  },
  {
   "cell_type": "code",
   "execution_count": 5,
   "metadata": {},
   "outputs": [],
   "source": [
    "results = soup.find_all('div', class_='pet-card')"
   ]
  },
  {
   "cell_type": "code",
   "execution_count": 6,
   "metadata": {},
   "outputs": [],
   "source": [
    "#print (results[0])"
   ]
  },
  {
   "cell_type": "code",
   "execution_count": 15,
   "metadata": {},
   "outputs": [
    {
     "data": {
      "text/plain": [
       "40"
      ]
     },
     "execution_count": 15,
     "metadata": {},
     "output_type": "execute_result"
    }
   ],
   "source": [
    "len(results)"
   ]
  },
  {
   "cell_type": "code",
   "execution_count": 16,
   "metadata": {},
   "outputs": [
    {
     "name": "stdout",
     "output_type": "stream",
     "text": [
      "Annie\n",
      "Female\n",
      "young\n",
      "Chicago, IL\n",
      "https://www.adoptapet.com/pet/24939053-chicago-illinois-cat\n"
     ]
    }
   ],
   "source": [
    "# Testing: Retrieving information for first one\n",
    "pet_name = results[0].find('h4', class_=\"pet-card__heading\").text.strip()\n",
    "gender = results[0].find_all('span', class_=\"pet-card__content--comma\")[0].text.strip()\n",
    "age = results[0].find_all('span', class_=\"pet-card__content--comma\")[1].text.strip()\n",
    "location = results[0].find_all('span', class_=\"pet-card__content--comma\")[2].text \\\n",
    "            + \", \" + results[0].find_all('span', class_=\"pet-card__content--comma\")[3].text\n",
    "link = results[0].a['href']\n",
    "print(pet_name)\n",
    "print(gender)\n",
    "print(age)\n",
    "print(location)\n",
    "print(link)"
   ]
  },
  {
   "cell_type": "code",
   "execution_count": 17,
   "metadata": {},
   "outputs": [],
   "source": [
    "# visit the link to the pet page\n",
    "browser.visit(link)\n",
    "p_html = browser.html\n",
    "p_soup = BeautifulSoup(p_html, 'html.parser')"
   ]
  },
  {
   "cell_type": "code",
   "execution_count": 34,
   "metadata": {},
   "outputs": [],
   "source": [
    "p_facts = p_soup.find_all('div', class_='pet-facts__content')\n",
    "#print(p_facts)"
   ]
  },
  {
   "cell_type": "code",
   "execution_count": 51,
   "metadata": {},
   "outputs": [
    {
     "name": "stdout",
     "output_type": "stream",
     "text": [
      "Annie\n",
      "Siamese\n",
      "White\n",
      "young\n",
      "Female\n",
      "14218333-19-0018\n",
      "short\n",
      "Whiskers & Tails Rescue Foundation\n",
      "PO Box 221014, Chicago, IL 60622\n"
     ]
    }
   ],
   "source": [
    "pet_breed = p_facts[0].find_all('div', class_=\"h4--light\")[0].text\n",
    "pet_color = p_facts[0].find_all('div', class_=\"h4--light\")[1].text\n",
    "pet_age = p_facts[0].find_all('div', class_=\"h4--light\")[2].span.text\n",
    "pet_gender = p_facts[0].find_all('div', class_=\"h4--light\")[3].text\n",
    "pet_id = p_facts[0].find_all('div', class_=\"h4--light\")[4].text\n",
    "pet_hair = p_facts[0].find_all('div', class_=\"h4--light\")[5].text\n",
    "\n",
    "# Rescue or Private Owner\n",
    "if(p_soup.find('h5', class_='shelterinfo__label').text.strip() == 'Rescue'):\n",
    "    # If it's a rescue, get shelter name and location\n",
    "    pet_rescue = p_soup.find('a', class_='formgroup__value').text\n",
    "    pet_address = p_soup.find('div', class_='gtm-plain-text-address').text.strip()\n",
    "else:\n",
    "    # If it's a private owner, pet_rescue is none and pet_address is location\n",
    "    pet_rescue = \"\"\n",
    "    pet_address = pet_location\n",
    "\n",
    "print(pet_name)\n",
    "print(pet_breed)\n",
    "print(pet_color)\n",
    "print(pet_age)\n",
    "print(pet_gender)\n",
    "print(pet_id)\n",
    "print(pet_hair)\n",
    "print(pet_rescue)\n",
    "print(pet_address)"
   ]
  },
  {
   "cell_type": "code",
   "execution_count": 46,
   "metadata": {},
   "outputs": [],
   "source": [
    "#p_info = p_soup.find_all('div', class_='myinfo__content')\n",
    "#print(p_info)"
   ]
  },
  {
   "cell_type": "code",
   "execution_count": null,
   "metadata": {},
   "outputs": [],
   "source": []
  },
  {
   "cell_type": "code",
   "execution_count": null,
   "metadata": {},
   "outputs": [],
   "source": []
  },
  {
   "cell_type": "code",
   "execution_count": null,
   "metadata": {},
   "outputs": [],
   "source": []
  },
  {
   "cell_type": "code",
   "execution_count": null,
   "metadata": {},
   "outputs": [],
   "source": []
  },
  {
   "cell_type": "code",
   "execution_count": null,
   "metadata": {},
   "outputs": [],
   "source": []
  },
  {
   "cell_type": "code",
   "execution_count": null,
   "metadata": {},
   "outputs": [],
   "source": []
  },
  {
   "cell_type": "code",
   "execution_count": null,
   "metadata": {},
   "outputs": [],
   "source": []
  },
  {
   "cell_type": "code",
   "execution_count": null,
   "metadata": {},
   "outputs": [],
   "source": []
  },
  {
   "cell_type": "code",
   "execution_count": null,
   "metadata": {},
   "outputs": [],
   "source": [
    "#INCOMPLETE\n",
    "\n",
    "# Loop through first page of results. There are up to 40 results per page.\n",
    "for result in results:\n",
    "    try:\n",
    "        pet_name = result.find('h4', class_=\"pet-card__heading\").text.strip()\n",
    "        gender = results.find_all('span', class_=\"pet-card__content--comma\")[0].text.strip()\n",
    "        age = results.find_all('span', class_=\"pet-card__content--comma\")[1].text.strip()\n",
    "        location = results[0].find_all('span', class_=\"pet-card__content--comma\")[2].text \\\n",
    "            + \", \" + results[0].find_all('span', class_=\"pet-card__content--comma\")[3].text\n",
    "        link = results[0].a['href']\n",
    "        \n",
    "        # visit the link to the pet page\n",
    "        browser.visit(link)\n",
    "        p_html = browser.html\n",
    "        p_soup = BeautifulSoup(p_html, 'html.parser')\n",
    "        \n",
    "\n",
    "        pet_card = {\n",
    "            'pet_name': pet_name,\n",
    "            'pet_gender': pet_gender,\n",
    "            'pet_age': pet_age,\n",
    "            'location': location,\n",
    "            'link': link,\n",
    "            'pet_breed' : pet_breed,\n",
    "            'pet_color' : pet_color,\n",
    "            'pet_id' : pet_id,\n",
    "            'pet_hair' : pet_hair,\n",
    "            'pet_rescue' : pet_rescue,\n",
    "            'pet_address' : pet_address\n",
    "            \n",
    "        }\n",
    "        \n",
    "    except AttributeError as e:\n",
    "        print(e)"
   ]
  },
  {
   "cell_type": "code",
   "execution_count": null,
   "metadata": {},
   "outputs": [],
   "source": []
  },
  {
   "cell_type": "code",
   "execution_count": null,
   "metadata": {},
   "outputs": [],
   "source": []
  },
  {
   "cell_type": "code",
   "execution_count": null,
   "metadata": {},
   "outputs": [],
   "source": []
  },
  {
   "cell_type": "code",
   "execution_count": null,
   "metadata": {},
   "outputs": [],
   "source": []
  },
  {
   "cell_type": "code",
   "execution_count": null,
   "metadata": {},
   "outputs": [],
   "source": []
  },
  {
   "cell_type": "code",
   "execution_count": null,
   "metadata": {},
   "outputs": [],
   "source": []
  }
 ],
 "metadata": {
  "kernelspec": {
   "display_name": "Python 3",
   "language": "python",
   "name": "python3"
  },
  "language_info": {
   "codemirror_mode": {
    "name": "ipython",
    "version": 3
   },
   "file_extension": ".py",
   "mimetype": "text/x-python",
   "name": "python",
   "nbconvert_exporter": "python",
   "pygments_lexer": "ipython3",
   "version": "3.7.1"
  }
 },
 "nbformat": 4,
 "nbformat_minor": 2
}
