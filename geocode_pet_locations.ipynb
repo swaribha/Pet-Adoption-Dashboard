{
 "cells": [
  {
   "cell_type": "code",
   "execution_count": 3,
   "metadata": {},
   "outputs": [],
   "source": [
    "import pandas as pd\n",
    "import csv  \n",
    "import json  \n",
    "import googlemaps"
   ]
  },
  {
   "cell_type": "code",
   "execution_count": 8,
   "metadata": {},
   "outputs": [],
   "source": [
    "API_KEY = 'ADD_API_KEY_HERE'"
   ]
  },
  {
   "cell_type": "code",
   "execution_count": 5,
   "metadata": {},
   "outputs": [],
   "source": [
    "# Store location and coordinates\n",
    "location_data = {}"
   ]
  },
  {
   "cell_type": "code",
   "execution_count": 6,
   "metadata": {},
   "outputs": [],
   "source": [
    "pet_type = 'dog'\n",
    "json_file = 'output_' + pet_type + '-adoption_50miles_chicago_clean.json' \n",
    "# Open file with pet data and store unique locations into unique_locations\n",
    "with open(json_file) as json_file:      \n",
    "    data = json.load(json_file)\n",
    "    unique_locations = set()\n",
    "    for item in data:\n",
    "        unique_locations.add(item['location'])\n",
    "#   for item in unique_locations:\n",
    "#       print(item)"
   ]
  },
  {
   "cell_type": "code",
   "execution_count": 9,
   "metadata": {},
   "outputs": [],
   "source": [
    "    # For each unique_location, use API to find coordinates\n",
    "    # Store coordinates for each location in location_data\n",
    "    for i,item in enumerate(unique_locations):\n",
    "        address_string = item.split(\",\")[0].title() + \",\" + item.split(\",\")[1].upper()\n",
    "        gmaps = googlemaps.Client(key= API_KEY )\n",
    "        result = gmaps.geocode(address_string)\n",
    "        geometry = result[0]['geometry']['location']\n",
    "        #print(result[0]['geometry'])\n",
    "        location_data[address_string] = geometry"
   ]
  },
  {
   "cell_type": "code",
   "execution_count": null,
   "metadata": {},
   "outputs": [],
   "source": [
    "# Write location_data to a json file\n",
    "with open('location_data.json', 'a+') as f:  \n",
    "    json.dump(location_data, f)"
   ]
  },
  {
   "cell_type": "code",
   "execution_count": null,
   "metadata": {},
   "outputs": [],
   "source": []
  },
  {
   "cell_type": "code",
   "execution_count": 11,
   "metadata": {},
   "outputs": [],
   "source": [
    "# For each pet in the pet data, add coord \n",
    "for i,item in enumerate(data):\n",
    "    location = data[i]['location'].split(\",\")[0].title() + \",\" + data[i]['location'].split(\",\")[1].upper()\n",
    "    data[i]['coord'] = location_data[location]"
   ]
  },
  {
   "cell_type": "code",
   "execution_count": 12,
   "metadata": {},
   "outputs": [],
   "source": [
    "# Write new pet data to file\n",
    "output_file = 'output_' + pet_type + '-adoption_50miles_chicago_location.json'\n",
    "with open(output_file, 'w') as f:  \n",
    "    json.dump(data, f)"
   ]
  },
  {
   "cell_type": "code",
   "execution_count": null,
   "metadata": {},
   "outputs": [],
   "source": []
  }
 ],
 "metadata": {
  "kernelspec": {
   "display_name": "Python 3",
   "language": "python",
   "name": "python3"
  },
  "language_info": {
   "codemirror_mode": {
    "name": "ipython",
    "version": 3
   },
   "file_extension": ".py",
   "mimetype": "text/x-python",
   "name": "python",
   "nbconvert_exporter": "python",
   "pygments_lexer": "ipython3",
   "version": "3.7.1"
  }
 },
 "nbformat": 4,
 "nbformat_minor": 2
}
